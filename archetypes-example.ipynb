{
 "cells": [
  {
   "cell_type": "code",
   "execution_count": 1,
   "id": "a6f05554-993e-4ec0-bba0-2010dae3a434",
   "metadata": {},
   "outputs": [],
   "source": [
    "# Note that this whole thing will run a whole lot faster if you have CUDA set up.\n",
    "#! pip install -U sentence-transformers"
   ]
  },
  {
   "cell_type": "code",
   "execution_count": 2,
   "id": "dd314cd0-8bb6-4cfb-a458-953380552121",
   "metadata": {},
   "outputs": [],
   "source": [
    "#! pip install tqdm"
   ]
  },
  {
   "cell_type": "code",
   "execution_count": 3,
   "id": "02667007-0900-4a74-ab3b-89818a3ca855",
   "metadata": {},
   "outputs": [],
   "source": [
    "#! pip install -U nltk"
   ]
  },
  {
   "cell_type": "code",
   "execution_count": 4,
   "id": "3e1bf1a5-bfcd-40d6-a96e-ed6c979c4d77",
   "metadata": {},
   "outputs": [],
   "source": [
    "import csv\n",
    "import pandas as pd\n",
    "from archetypes import ArchetypeCollection, ArchetypeQuantifier"
   ]
  },
  {
   "cell_type": "code",
   "execution_count": 5,
   "id": "d52258c3-ca8a-4eb6-b7bd-2c3a21df36ca",
   "metadata": {},
   "outputs": [],
   "source": [
    "# Specify the model that we would like to use for our analyses\n",
    "model_name = 'sentence-transformers/all-roberta-large-v1' "
   ]
  },
  {
   "cell_type": "code",
   "execution_count": 6,
   "id": "63c72a05-41ef-48dc-b8b6-4e9491b1282d",
   "metadata": {},
   "outputs": [
    {
     "name": "stdout",
     "output_type": "stream",
     "text": [
      "Archetype added: Acquired Capability - Ideation/Simulation\n",
      "Archetype added: Perceived Burdensomness\n",
      "Archetype added: Thwarted Belongingness\n"
     ]
    }
   ],
   "source": [
    "# There are two ways in which we can create \"Archetypes\" from prototypical sentences. \n",
    "\n",
    "# The first method, which is a more manual approach, is to instantiate a member of our Archetype_Collection class.\n",
    "# Then, we can individually add prototype sentences that are mapped to constructs.\n",
    "archetypes = ArchetypeCollection()\n",
    "\n",
    "archetypes.add_archetype(name=\"Acquired Capability - Ideation/Simulation\",\n",
    "                         sentences = [\"I think about putting a rope around my neck\",\n",
    "                                      \"I want to put a gun in my mouth and pull the trigger\",\n",
    "                                      \"I plan on taking a bunch of pills and just fall asleep forever\"])\n",
    "\n",
    "archetypes.add_archetype(name=\"Perceived Burdensomness\",\n",
    "                         sentences = [\"The world would be a better place without me\",\n",
    "                                      \"I add nothing to the world\",\n",
    "                                      \"Things would be better if I was not here.\"])\n",
    "\n",
    "archetypes.add_archetype(name=\"Thwarted Belongingness\",\n",
    "                         sentences = [\"I am alone\",\n",
    "                                      \"I don't fit in anywhere\",\n",
    "                                      \"Everyone hates me\"])\n",
    "\n",
    "#... and so on..."
   ]
  },
  {
   "cell_type": "code",
   "execution_count": 7,
   "id": "11fcafa6-3d20-4def-9a4e-592cee4fd814",
   "metadata": {},
   "outputs": [
    {
     "name": "stdout",
     "output_type": "stream",
     "text": [
      "Archetype added: Acquired Capability - Ideation/Simulation\n",
      "Archetype added: Acquired Capability - Experiences of Endurance\n",
      "Archetype added: Acquired Capability - Desensitization to Harm\n",
      "Archetype added: Acquired Capability - High Tolerance for Physical Pain\n",
      "Archetype added: Acquired Capability - Engagement in Risky Behaviors\n",
      "Archetype added: Acquired Capability - Familiarity with Self-Harm Methods\n",
      "Archetype added: Perceived Burdensomness\n",
      "Archetype added: Thwarted Belongingness\n"
     ]
    }
   ],
   "source": [
    "# The second, and \"cleaner\" method, is to load them from a CSV file, as we're doing here.\n",
    "\n",
    "# instantiate a member of our Archetype_Collection class\n",
    "archetypes = ArchetypeCollection()\n",
    "\n",
    "# load in our archetypes from a CSV file\n",
    "archetypes.add_archetypes_from_CSV(filepath=\"example_archetypes/Suicidality-Archetypes.csv\",\n",
    "                                   file_encoding=\"utf-8-sig\",\n",
    "                                   file_has_headers=True)\n"
   ]
  },
  {
   "cell_type": "code",
   "execution_count": 8,
   "id": "f8fd71b5-24d9-47d9-91cf-e1c7274a2844",
   "metadata": {},
   "outputs": [
    {
     "name": "stdout",
     "output_type": "stream",
     "text": [
      "ArchetypeQuantifier has been successfully instantiated.\n"
     ]
    }
   ],
   "source": [
    "# Now, we can initialize an ArchetypeQuantifier with the archetypes that we set up above\n",
    "archetype_quantifier = ArchetypeQuantifier(archetypes=archetypes,\n",
    "                                           model=model_name,\n",
    "                                           mean_center_vectors=True)"
   ]
  },
  {
   "cell_type": "code",
   "execution_count": 9,
   "id": "0f8a35a9-3c44-4aee-b113-27bd09807530",
   "metadata": {},
   "outputs": [
    {
     "data": {
      "text/plain": [
       "['Acquired Capability - Ideation/Simulation',\n",
       " 'Acquired Capability - Experiences of Endurance',\n",
       " 'Acquired Capability - Desensitization to Harm',\n",
       " 'Acquired Capability - High Tolerance for Physical Pain',\n",
       " 'Acquired Capability - Engagement in Risky Behaviors',\n",
       " 'Acquired Capability - Familiarity with Self-Harm Methods',\n",
       " 'Perceived Burdensomness',\n",
       " 'Thwarted Belongingness']"
      ]
     },
     "execution_count": 9,
     "metadata": {},
     "output_type": "execute_result"
    }
   ],
   "source": [
    "# check the archetype names and the order they appear in\n",
    "archetype_quantifier.get_list_of_archetypes()"
   ]
  },
  {
   "cell_type": "code",
   "execution_count": 10,
   "id": "ba2f90b2-88cd-40c0-b0a6-ba722f05a4a6",
   "metadata": {},
   "outputs": [
    {
     "name": "stdout",
     "output_type": "stream",
     "text": [
      "Successfully exported correlation matrix for: Acquired Capability - Ideation/Simulation\n",
      "Successfully exported correlation matrix for: Acquired Capability - Experiences of Endurance\n",
      "Successfully exported correlation matrix for: Acquired Capability - Desensitization to Harm\n",
      "Successfully exported correlation matrix for: Acquired Capability - High Tolerance for Physical Pain\n",
      "Successfully exported correlation matrix for: Acquired Capability - Engagement in Risky Behaviors\n",
      "Successfully exported correlation matrix for: Acquired Capability - Familiarity with Self-Harm Methods\n",
      "Successfully exported correlation matrix for: Perceived Burdensomness\n",
      "Successfully exported correlation matrix for: Thwarted Belongingness\n"
     ]
    }
   ],
   "source": [
    "# Here, we're going to do a few things to get a descriptive sense of the psychometrics of our archetypes.\n",
    "\n",
    "# First, let's just get item-level correlations for all of our archetypes. We need to specify\n",
    "# the output folder that we would like to export our correlation matrices into.\n",
    "archetype_quantifier.export_archetype_internal_correlations(output_folder=\"ItemCorrelations/\")"
   ]
  },
  {
   "cell_type": "code",
   "execution_count": 11,
   "id": "894b0aba-f989-40db-9493-71a54850cb10",
   "metadata": {},
   "outputs": [
    {
     "name": "stdout",
     "output_type": "stream",
     "text": [
      "Evaluating Acquired Capability - Ideation/Simulation...\n",
      "\t0.78127: I think about putting a rope around my neck\n",
      "\t0.80222: I want to put a gun in my mouth and pull the trigger\n",
      "\t0.75624: I plan on taking a bunch of pills and just fall asleep forever\n",
      "\t--------------------\n",
      "\t0.77991: Average item-rest cos_sim\n",
      "\t0.67798: Cronbach's alpha\n",
      "\n",
      "\n",
      "Evaluating Acquired Capability - Experiences of Endurance...\n",
      "\t0.86638: I've been through so much pain in my life that I feel like nothing can hurt me anymore\n",
      "\t0.81043: Overcoming those challenges made me realize I can endure a lot more than I thought.\n",
      "\t0.85491: I've become numb to the pain and it takes a lot to bother me now.\n",
      "\t--------------------\n",
      "\t0.84391: Average item-rest cos_sim\n",
      "\t0.79793: Cronbach's alpha\n",
      "\n",
      "\n",
      "Evaluating Acquired Capability - Desensitization to Harm...\n",
      "\t0.80566: I've seen and experienced so much violence that it doesn't faze me anymore.\n",
      "\t0.80979: I can handle situations that used to terrify me, it's like I'm immune to the fear.\n",
      "\t0.75562: I've become desensitized to the pain\n",
      "\t--------------------\n",
      "\t0.79036: Average item-rest cos_sim\n",
      "\t0.69957: Cronbach's alpha\n",
      "\n",
      "\n",
      "Evaluating Acquired Capability - High Tolerance for Physical Pain...\n",
      "\t0.92195: I can tolerate physical pain much better now; it's almost like I've trained myself.\n",
      "\t0.92411: I've intentionally exposed myself to pain to build up my resistance.\n",
      "\t0.89392: I've been through so many injuries that pain doesn't bother me as much.\n",
      "\t--------------------\n",
      "\t0.91333: Average item-rest cos_sim\n",
      "\t0.9006: Cronbach's alpha\n",
      "\n",
      "\n",
      "Evaluating Acquired Capability - Engagement in Risky Behaviors...\n",
      "\t0.90614: I've taken risks that others wouldn't even consider; it's like I'm not afraid of consequences anymore.\n",
      "\t0.92858: Engaging in extreme activities has made me less afraid of potential harm.\n",
      "\t0.93639: I've deliberately put myself in dangerous situations, and it doesn't scare me like it used to.\n",
      "\t--------------------\n",
      "\t0.9237: Average item-rest cos_sim\n",
      "\t0.91399: Cronbach's alpha\n",
      "\n",
      "\n",
      "Evaluating Acquired Capability - Familiarity with Self-Harm Methods...\n",
      "\t0.83032: I've researched and learned about different ways to harm myself\n",
      "\t0.86312: Knowing about self-harm methods doesn't bother me\n",
      "\t0.85819: I'm not disturbed by the idea of self-harm anymore\n",
      "\t--------------------\n",
      "\t0.85054: Average item-rest cos_sim\n",
      "\t0.80884: Cronbach's alpha\n",
      "\n",
      "\n",
      "Evaluating Perceived Burdensomness...\n",
      "\t0.87785: Everyone would be better off without me\n",
      "\t0.90788: The world would be a better place without me\n",
      "\t0.75336: I add nothing to the world\n",
      "\t0.81403: Things would be better if I was not here.\n",
      "\t--------------------\n",
      "\t0.83828: Average item-rest cos_sim\n",
      "\t0.85898: Cronbach's alpha\n",
      "\n",
      "\n",
      "Evaluating Thwarted Belongingness...\n",
      "\t0.75242: I am alone\n",
      "\t0.79965: I don't fit in anywhere\n",
      "\t0.78758: Everyone hates me\n",
      "\t--------------------\n",
      "\t0.77988: Average item-rest cos_sim\n",
      "\t0.67792: Cronbach's alpha\n",
      "\n",
      "\n"
     ]
    }
   ],
   "source": [
    "# Now, let's evaluate the \"internal consistency\" of our archetypes in a rough, Boyd-esque fashion.\n",
    "archetype_quantifier.evaluate_archetype_consistency()\n",
    "\n",
    "# In theory, we're looking for Cronbach's alpha / item-rest cosine similarities in the neighborhood of >= .70"
   ]
  },
  {
   "cell_type": "code",
   "execution_count": null,
   "id": "3be33e27-9e20-4ba8-8280-435d81852cdf",
   "metadata": {},
   "outputs": [],
   "source": [
    "# Now, let's go ahead and read in the dataset that we want to analyze.\n",
    "df = pd.read_csv('example_data/social_media_dataset.csv')\n",
    "\n",
    "df.head()"
   ]
  },
  {
   "cell_type": "code",
   "execution_count": 13,
   "id": "0d7fc1c1-7246-4df3-b864-16bc3fe8890e",
   "metadata": {},
   "outputs": [],
   "source": [
    "# now, let's just pull out the texts and put them in a list.\n",
    "texts = df[\"selftext\"].tolist()\n",
    "\n",
    "# metadata that we want to retainfor the texts that we want to analyze\n",
    "text_metadata = {\n",
    "    \"author\": df[\"author\"].tolist(),\n",
    "    \"created_utc\": df[\"created_utc\"].tolist(),\n",
    "    \"post_id\": df[\"id\"].tolist()\n",
    "    }\n"
   ]
  },
  {
   "cell_type": "code",
   "execution_count": 14,
   "id": "d390b995-b5e6-45e0-a294-6705042b1a7b",
   "metadata": {},
   "outputs": [
    {
     "name": "stderr",
     "output_type": "stream",
     "text": [
      "100%|████████████████████████████████████████████████████████████████████████████████| 172/172 [00:20<00:00,  8.37it/s]\n"
     ]
    }
   ],
   "source": [
    "# Now, we're off to the races! This will batch-analyze the texts in our dataset, exporting our results into\n",
    "# a sentence-level output file and a document-level output file.\n",
    "archetype_quantifier.batch_analyze_to_csv(texts = texts,\n",
    "                                          text_metadata = text_metadata,\n",
    "                                          csv_sent_output_location = 'archetypes_sent.csv',\n",
    "                                          csv_doc_output_location = 'archetypes_doc.csv',\n",
    "                                          append_to_existing_csv = False,\n",
    "                                          output_encoding = 'utf-8-sig',\n",
    "                                          doc_avgs_exclude_sents_with_WC_less_than = 5)"
   ]
  },
  {
   "cell_type": "code",
   "execution_count": 15,
   "id": "67560bb8-aee5-4156-9d16-3077d7d4ab0c",
   "metadata": {},
   "outputs": [
    {
     "name": "stdout",
     "output_type": "stream",
     "text": [
      "Sentence Text: General Kenobi, you are a bold one.\n",
      "Word Count: 7\n",
      "Archetype scores:\n",
      "{'Acquired Capability - Desensitization to Harm': 0.10445860773324966,\n",
      " 'Acquired Capability - Engagement in Risky Behaviors': 0.1638248711824417,\n",
      " 'Acquired Capability - Experiences of Endurance': 0.05945660173892975,\n",
      " 'Acquired Capability - Familiarity with Self-Harm Methods': 0.057512469589710236,\n",
      " 'Acquired Capability - High Tolerance for Physical Pain': 0.09661861509084702,\n",
      " 'Acquired Capability - Ideation/Simulation': 0.12960359454154968,\n",
      " 'Perceived Burdensomness': 0.10946101695299149,\n",
      " 'Thwarted Belongingness': 0.27060776948928833}\n",
      "\n",
      "\n",
      "Sentence Text: I find your behavior bewildering.\n",
      "Word Count: 5\n",
      "Archetype scores:\n",
      "{'Acquired Capability - Desensitization to Harm': 0.15489289164543152,\n",
      " 'Acquired Capability - Engagement in Risky Behaviors': 0.10406075417995453,\n",
      " 'Acquired Capability - Experiences of Endurance': 0.07500573992729187,\n",
      " 'Acquired Capability - Familiarity with Self-Harm Methods': 0.21348285675048828,\n",
      " 'Acquired Capability - High Tolerance for Physical Pain': 0.08440397679805756,\n",
      " 'Acquired Capability - Ideation/Simulation': 0.1279522180557251,\n",
      " 'Perceived Burdensomness': 0.247930109500885,\n",
      " 'Thwarted Belongingness': 0.21452394127845764}\n",
      "\n",
      "\n",
      "Sentence Text: Surely you realize you're doomed.\n",
      "Word Count: 5\n",
      "Archetype scores:\n",
      "{'Acquired Capability - Desensitization to Harm': 0.27585503458976746,\n",
      " 'Acquired Capability - Engagement in Risky Behaviors': 0.26849979162216187,\n",
      " 'Acquired Capability - Experiences of Endurance': 0.19391736388206482,\n",
      " 'Acquired Capability - Familiarity with Self-Harm Methods': 0.30173033475875854,\n",
      " 'Acquired Capability - High Tolerance for Physical Pain': 0.21174433827400208,\n",
      " 'Acquired Capability - Ideation/Simulation': 0.31420862674713135,\n",
      " 'Perceived Burdensomness': 0.2912709712982178,\n",
      " 'Thwarted Belongingness': 0.2642296254634857}\n",
      "\n",
      "\n"
     ]
    }
   ],
   "source": [
    "# We can also just apply this to individual texts, just in case you want to test things out,\n",
    "# or if you do not need to batch-analyze a dataset like the example above. This also lets\n",
    "# you build your own pipeline around the library, iterating and exporting results however\n",
    "# best suits your needs.\n",
    "from pprint import pprint\n",
    "\n",
    "example_text = \"General Kenobi, you are a bold one. I find your behavior bewildering. Surely you realize you're doomed.\"\n",
    "\n",
    "archetype_quantifier.analyze(example_text)\n",
    "\n",
    "results = archetype_quantifier.results\n",
    "\n",
    "for result in results:\n",
    "    print(f\"Sentence Text: {result.sentence_text}\")\n",
    "    print(f\"Word Count: {result.WC}\")\n",
    "    print(\"Archetype scores:\")\n",
    "    pprint(result.archetype_scores)\n",
    "    print(\"\\n\")\n"
   ]
  }
 ],
 "metadata": {
  "kernelspec": {
   "display_name": "Python 3 (ipykernel)",
   "language": "python",
   "name": "python3"
  },
  "language_info": {
   "codemirror_mode": {
    "name": "ipython",
    "version": 3
   },
   "file_extension": ".py",
   "mimetype": "text/x-python",
   "name": "python",
   "nbconvert_exporter": "python",
   "pygments_lexer": "ipython3",
   "version": "3.10.10"
  }
 },
 "nbformat": 4,
 "nbformat_minor": 5
}
